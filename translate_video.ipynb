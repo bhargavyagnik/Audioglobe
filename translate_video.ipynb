{
 "cells": [
  {
   "cell_type": "code",
   "execution_count": null,
   "metadata": {},
   "outputs": [],
   "source": [
    "\n",
    "%cd /content\n",
    "!pip install -q fairseq2==0.1.0 gradio==3.40.1\n",
    "!pip install -q git+https://github.com/camenduru/seamless_communication\n",
    "\n",
    "%cd /content\n",
    "!git clone -b dev https://github.com/camenduru/seamless_m4t-hf\n",
    "%cd /content/seamless_m4t-hf\n",
    "\n",
    "!wget https://huggingface.co/spaces/facebook/seamless_m4t/resolve/main/assets/sample_input.mp3 -O /content/seamless_m4t-hf/assets/sample_input.mp3\n",
    "!wget https://huggingface.co/spaces/facebook/seamless_m4t/resolve/main/assets/sample_input_2.mp3 -O /content/seamless_m4t-hf/assets/sample_input_2.mp3\n",
    "\n",
    "!python app.py\n",
    "     "
   ]
  }
 ],
 "metadata": {
  "language_info": {
   "name": "python"
  },
  "orig_nbformat": 4
 },
 "nbformat": 4,
 "nbformat_minor": 2
}
